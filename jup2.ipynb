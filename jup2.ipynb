{
 "cells": [
  {
   "cell_type": "code",
   "execution_count": 1,
   "metadata": {},
   "outputs": [],
   "source": [
    "import pip\n",
    "\n",
    "def import_or_install(package):\n",
    "    try:\n",
    "        __import__(package)\n",
    "    except ImportError:\n",
    "        pip.main(['install', package])\n",
    "\n",
    "import_or_install(\"numpy\")\n",
    "\n",
    "import numpy as np\n",
    "\n",
    "twoDList = [[2,3,55,63],\n",
    "            [4,53,44,21]]\n",
    "\n",
    "twoDArray = np.array(twoDList) #list to array\n"
   ]
  },
  {
   "cell_type": "code",
   "execution_count": 16,
   "metadata": {},
   "outputs": [
    {
     "data": {
      "text/plain": [
       "array([[1, 1, 1, 1],\n",
       "       [1, 1, 1, 1],\n",
       "       [1, 1, 1, 1],\n",
       "       [1, 1, 1, 1]], dtype=int32)"
      ]
     },
     "execution_count": 16,
     "metadata": {},
     "output_type": "execute_result"
    }
   ],
   "source": [
    "import pip\n",
    "\n",
    "def import_or_install(package):\n",
    "    try:\n",
    "        __import__(package)\n",
    "    except ImportError:\n",
    "        pip.main(['install', package])\n",
    "\n",
    "import_or_install(\"numpy\")\n",
    "\n",
    "import numpy as np\n",
    "\n",
    "np.zeros(3)\n",
    "\n",
    "np.zeros([3,3])\n",
    "np.linspace(10,100,5)\n",
    "\n",
    "np.ones(4)\n",
    "\n",
    "np.ones((4,4),dtype=\"int32\") #4x4 array"
   ]
  },
  {
   "cell_type": "code",
   "execution_count": 21,
   "metadata": {},
   "outputs": [
    {
     "name": "stdout",
     "output_type": "stream",
     "text": [
      "[ 0  1  2  3  4  5  6  7  8  9 10 11 12 13 14 15 16 17 18 19 20 21 22 23\n",
      " 24]\n",
      "[[ 0  1  2  3  4]\n",
      " [ 5  6  7  8  9]\n",
      " [10 11 12 13 14]\n",
      " [15 16 17 18 19]\n",
      " [20 21 22 23 24]]\n",
      "[[50 51 52 53 54]\n",
      " [55 56 57 58 59]\n",
      " [60 61 62 63 64]\n",
      " [65 66 67 68 69]\n",
      " [70 71 72 73 74]]\n",
      "[ 2  4  6  8 10]\n",
      "[0 0 0 0 0]\n",
      "[0. 0. 0. 0. 0.]\n"
     ]
    }
   ],
   "source": [
    "import pip\n",
    "\n",
    "def import_or_install(package):\n",
    "    try:\n",
    "        __import__(package)\n",
    "    except ImportError:\n",
    "        pip.main(['install', package])\n",
    "\n",
    "import_or_install(\"numpy\")\n",
    "\n",
    "import numpy as np\n",
    "\n",
    "np.random.rand()\n",
    "\n",
    "sampleArray = np.arange(25) #sort\n",
    "print(sampleArray) \n",
    "\n",
    "sampleArray.shape\n",
    "\n",
    "sample2dArray = sampleArray.reshape(5,5) #convert into 2d 5x5\n",
    "print(sample2dArray)\n",
    "\n",
    "sample2dArray.max()\n",
    "\n",
    "sample2dArray = sample2dArray + 50 #add to array\n",
    "print(sample2dArray)\n",
    "\n",
    "sample2dArray.argmax()\n",
    "\n",
    "np.max(sample2dArray)\n",
    "\n",
    "array1 = np.array([1,2,3,4,5])\n",
    "array2 = np.array([1,2,3,4,5])\n",
    "array3 = np.array([0,0,0,0,0])\n",
    "\n",
    "sumOfArrays = array1 + array2\n",
    "\n",
    "print(sumOfArrays)\n",
    "\n",
    "subOfArrays = array1 - array2\n",
    "\n",
    "print(subOfArrays)\n",
    "\n",
    "divBy0 = array3/array1\n",
    "print(divBy0)\n",
    "# div0By = array1/array3\n",
    "# print(div0By)\n",
    "\n",
    "sampleArray[:-1]\n",
    "\n",
    "sampleArray[0:10] = 10"
   ]
  },
  {
   "cell_type": "code",
   "execution_count": 1,
   "metadata": {},
   "outputs": [
    {
     "name": "stdout",
     "output_type": "stream",
     "text": [
      "[ 9  7 13]\n",
      "[-3  1 -3]\n",
      "[0. 0. 0.]\n",
      "[1.         0.5        1.33333333]\n",
      "[24 12 32]\n",
      "[18 12 40]\n"
     ]
    }
   ],
   "source": [
    "import pip\n",
    "\n",
    "def import_or_install(package):\n",
    "    try:\n",
    "        __import__(package)\n",
    "    except ImportError:\n",
    "        pip.main(['install', package])\n",
    "\n",
    "import_or_install(\"numpy\")\n",
    "\n",
    "import numpy as np\n",
    "\n",
    "array1 = np.array([3,4,5])\n",
    "array2 = np.array([6,3,8])\n",
    "array3 = np.array([0,0,0])\n",
    "\n",
    "sumOfArrays = array1 + array2\n",
    "\n",
    "print(sumOfArrays)\n",
    "\n",
    "subOfArrays = array1 - array2\n",
    "\n",
    "print(subOfArrays)\n",
    "\n",
    "divBy0 = array3/array1\n",
    "print(divBy0)\n",
    "# div0By = array1/array3\n",
    "# print(div0By)\n",
    "\n",
    "divBy6 = array2/6\n",
    "print(divBy6)\n",
    "\n",
    "mulBy4 = array2*4\n",
    "print(mulBy4)\n",
    "\n",
    "array4 = array1*array2\n",
    "print(array4)\n",
    "\n",
    "# subtraction divison numpy series dataframe multiplication (with int with array)"
   ]
  }
 ],
 "metadata": {
  "kernelspec": {
   "display_name": "Python 3",
   "language": "python",
   "name": "python3"
  },
  "language_info": {
   "codemirror_mode": {
    "name": "ipython",
    "version": 3
   },
   "file_extension": ".py",
   "mimetype": "text/x-python",
   "name": "python",
   "nbconvert_exporter": "python",
   "pygments_lexer": "ipython3",
   "version": "3.12.6"
  }
 },
 "nbformat": 4,
 "nbformat_minor": 2
}
