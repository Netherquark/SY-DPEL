{
 "cells": [
  {
   "cell_type": "markdown",
   "metadata": {},
   "source": [
    "## initialise"
   ]
  },
  {
   "cell_type": "code",
   "execution_count": 15,
   "metadata": {},
   "outputs": [],
   "source": [
    "import pip\n",
    "\n",
    "def import_or_install(package):\n",
    "    try:\n",
    "        __import__(package)\n",
    "    except ImportError:\n",
    "        pip.main(['install', package])\n",
    "\n",
    "import_or_install(\"numpy\")\n",
    "import_or_install(\"pandas\")\n",
    "import_or_install(\"faker\")\n",
    "import_or_install(\"random\")\n",
    "import_or_install(\"uuid\")\n",
    "\n",
    "import numpy as np\n",
    "import pandas as pd\n",
    "from faker import Faker\n",
    "import random\n",
    "import uuid\n",
    "\n",
    "fake = Faker()"
   ]
  },
  {
   "cell_type": "markdown",
   "metadata": {},
   "source": [
    "## testing Faker"
   ]
  },
  {
   "cell_type": "code",
   "execution_count": 2,
   "metadata": {},
   "outputs": [
    {
     "name": "stdout",
     "output_type": "stream",
     "text": [
      "lisa65@example.net\n",
      "Serbia\n",
      "Mrs. Erica Chavez\n",
      "Often beautiful indeed necessary remain. Employee daughter pay direction because.\n",
      "Help talk arm threat. Hour style or course.\n",
      "-54.4102095 80.341986\n",
      "http://chen.com/\n"
     ]
    }
   ],
   "source": [
    "print(fake.email())\n",
    "print(fake.country())\n",
    "print(fake.name())\n",
    "print(fake.text())\n",
    "print(fake.latitude(), fake.longitude())\n",
    "print(fake.url())"
   ]
  },
  {
   "cell_type": "markdown",
   "metadata": {},
   "source": [
    "## generating a fake dataframe"
   ]
  },
  {
   "cell_type": "code",
   "execution_count": 3,
   "metadata": {},
   "outputs": [
    {
     "data": {
      "text/html": [
       "<div>\n",
       "<style scoped>\n",
       "    .dataframe tbody tr th:only-of-type {\n",
       "        vertical-align: middle;\n",
       "    }\n",
       "\n",
       "    .dataframe tbody tr th {\n",
       "        vertical-align: top;\n",
       "    }\n",
       "\n",
       "    .dataframe thead th {\n",
       "        text-align: right;\n",
       "    }\n",
       "</style>\n",
       "<table border=\"1\" class=\"dataframe\">\n",
       "  <thead>\n",
       "    <tr style=\"text-align: right;\">\n",
       "      <th></th>\n",
       "      <th>id</th>\n",
       "      <th>name</th>\n",
       "      <th>address</th>\n",
       "      <th>latitude</th>\n",
       "      <th>longitude</th>\n",
       "    </tr>\n",
       "  </thead>\n",
       "  <tbody>\n",
       "    <tr>\n",
       "      <th>0</th>\n",
       "      <td>11.0</td>\n",
       "      <td>Tina Valdez</td>\n",
       "      <td>551 Garcia Shore Suite 261\\nWest Connorbury, M...</td>\n",
       "      <td>18.775439</td>\n",
       "      <td>-120.964510</td>\n",
       "    </tr>\n",
       "    <tr>\n",
       "      <th>1</th>\n",
       "      <td>18.0</td>\n",
       "      <td>Daniel Bryant</td>\n",
       "      <td>3895 Karen Fork\\nLake Annaborough, DC 23910</td>\n",
       "      <td>-14.041851</td>\n",
       "      <td>-26.660531</td>\n",
       "    </tr>\n",
       "    <tr>\n",
       "      <th>2</th>\n",
       "      <td>7.0</td>\n",
       "      <td>Mariah Garcia</td>\n",
       "      <td>328 Angela Spur\\nBarnettmouth, FL 60269</td>\n",
       "      <td>-41.2157155</td>\n",
       "      <td>111.818105</td>\n",
       "    </tr>\n",
       "    <tr>\n",
       "      <th>3</th>\n",
       "      <td>77.0</td>\n",
       "      <td>Caleb Landry</td>\n",
       "      <td>14517 Delgado Plaza Apt. 745\\nJacksonton, IN 9...</td>\n",
       "      <td>-18.662965</td>\n",
       "      <td>142.797617</td>\n",
       "    </tr>\n",
       "    <tr>\n",
       "      <th>4</th>\n",
       "      <td>32.0</td>\n",
       "      <td>Pamela Copeland</td>\n",
       "      <td>928 Zachary Inlet\\nHortonborough, NY 23270</td>\n",
       "      <td>4.0916945</td>\n",
       "      <td>113.902024</td>\n",
       "    </tr>\n",
       "    <tr>\n",
       "      <th>5</th>\n",
       "      <td>59.0</td>\n",
       "      <td>Joshua Barton</td>\n",
       "      <td>29519 James Gardens Suite 331\\nScottfort, MD 8...</td>\n",
       "      <td>86.259352</td>\n",
       "      <td>-29.150332</td>\n",
       "    </tr>\n",
       "    <tr>\n",
       "      <th>6</th>\n",
       "      <td>54.0</td>\n",
       "      <td>Justin Vazquez</td>\n",
       "      <td>007 Gonzalez Greens Suite 511\\nEast Kevinshire...</td>\n",
       "      <td>13.857113</td>\n",
       "      <td>113.644737</td>\n",
       "    </tr>\n",
       "    <tr>\n",
       "      <th>7</th>\n",
       "      <td>44.0</td>\n",
       "      <td>Christine Brown</td>\n",
       "      <td>555 Barry Circles\\nWest Elizabethshire, ND 01641</td>\n",
       "      <td>-68.613462</td>\n",
       "      <td>-165.841864</td>\n",
       "    </tr>\n",
       "    <tr>\n",
       "      <th>8</th>\n",
       "      <td>24.0</td>\n",
       "      <td>Tammie Buck</td>\n",
       "      <td>886 Khan Islands\\nPort Raymond, AL 85534</td>\n",
       "      <td>-81.167709</td>\n",
       "      <td>2.831341</td>\n",
       "    </tr>\n",
       "    <tr>\n",
       "      <th>9</th>\n",
       "      <td>80.0</td>\n",
       "      <td>Joseph Stuart</td>\n",
       "      <td>095 Rhonda Plains\\nGeraldtown, IL 02463</td>\n",
       "      <td>-56.297190</td>\n",
       "      <td>-51.068640</td>\n",
       "    </tr>\n",
       "  </tbody>\n",
       "</table>\n",
       "</div>"
      ],
      "text/plain": [
       "     id             name                                            address  \\\n",
       "0  11.0      Tina Valdez  551 Garcia Shore Suite 261\\nWest Connorbury, M...   \n",
       "1  18.0    Daniel Bryant        3895 Karen Fork\\nLake Annaborough, DC 23910   \n",
       "2   7.0    Mariah Garcia            328 Angela Spur\\nBarnettmouth, FL 60269   \n",
       "3  77.0     Caleb Landry  14517 Delgado Plaza Apt. 745\\nJacksonton, IN 9...   \n",
       "4  32.0  Pamela Copeland         928 Zachary Inlet\\nHortonborough, NY 23270   \n",
       "5  59.0    Joshua Barton  29519 James Gardens Suite 331\\nScottfort, MD 8...   \n",
       "6  54.0   Justin Vazquez  007 Gonzalez Greens Suite 511\\nEast Kevinshire...   \n",
       "7  44.0  Christine Brown   555 Barry Circles\\nWest Elizabethshire, ND 01641   \n",
       "8  24.0      Tammie Buck           886 Khan Islands\\nPort Raymond, AL 85534   \n",
       "9  80.0    Joseph Stuart            095 Rhonda Plains\\nGeraldtown, IL 02463   \n",
       "\n",
       "      latitude    longitude  \n",
       "0    18.775439  -120.964510  \n",
       "1   -14.041851   -26.660531  \n",
       "2  -41.2157155   111.818105  \n",
       "3   -18.662965   142.797617  \n",
       "4    4.0916945   113.902024  \n",
       "5    86.259352   -29.150332  \n",
       "6    13.857113   113.644737  \n",
       "7   -68.613462  -165.841864  \n",
       "8   -81.167709     2.831341  \n",
       "9   -56.297190   -51.068640  "
      ]
     },
     "execution_count": 3,
     "metadata": {},
     "output_type": "execute_result"
    }
   ],
   "source": [
    "data = pd.DataFrame()\n",
    "def input_data(x):\n",
    "    for i in range(0,x):\n",
    "        data.loc[i,'id'] = randint(1,100)\n",
    "        data.loc[i,'name'] = fake.name()\n",
    "        data.loc[i,'address'] = fake.address()\n",
    "        data.loc[i,'latitude'] = fake.latitude()\n",
    "        data.loc[i,'longitude'] = fake.longitude()\n",
    "    return data\n",
    "\n",
    "input_data(10)"
   ]
  },
  {
   "cell_type": "code",
   "execution_count": 4,
   "metadata": {},
   "outputs": [
    {
     "data": {
      "text/html": [
       "<div>\n",
       "<style scoped>\n",
       "    .dataframe tbody tr th:only-of-type {\n",
       "        vertical-align: middle;\n",
       "    }\n",
       "\n",
       "    .dataframe tbody tr th {\n",
       "        vertical-align: top;\n",
       "    }\n",
       "\n",
       "    .dataframe thead th {\n",
       "        text-align: right;\n",
       "    }\n",
       "</style>\n",
       "<table border=\"1\" class=\"dataframe\">\n",
       "  <thead>\n",
       "    <tr style=\"text-align: right;\">\n",
       "      <th></th>\n",
       "      <th>id</th>\n",
       "      <th>gender</th>\n",
       "      <th>subscriber</th>\n",
       "      <th>name</th>\n",
       "      <th>rating</th>\n",
       "    </tr>\n",
       "  </thead>\n",
       "  <tbody>\n",
       "  </tbody>\n",
       "</table>\n",
       "</div>"
      ],
      "text/plain": [
       "Empty DataFrame\n",
       "Columns: [id, gender, subscriber, name, rating]\n",
       "Index: []"
      ]
     },
     "execution_count": 4,
     "metadata": {},
     "output_type": "execute_result"
    }
   ],
   "source": [
    "features = [\n",
    "    \"id\",\n",
    "    \"gender\",\n",
    "    \"subscriber\",\n",
    "    \"name\",\n",
    "    \"rating\"\n",
    "]\n",
    "\n",
    "df = pd.DataFrame(columns = features)\n",
    "df"
   ]
  },
  {
   "cell_type": "code",
   "execution_count": 5,
   "metadata": {},
   "outputs": [
    {
     "name": "stdout",
     "output_type": "stream",
     "text": [
      "                                person_id first_name  last_name  \\\n",
      "0    bdd640fb-0667-4ad1-9c80-317fa3b1799d     Joshua     Walker   \n",
      "1    47229389-571a-4876-ac30-7511b2b9437a       Eric    Bernard   \n",
      "2    11ce5dd2-b45e-41f0-b139-d32c93cd59bf    Brandon      Perez   \n",
      "3    fd5166e6-451b-4cf3-a123-fdf77656af72       Sara      Watts   \n",
      "4    663f1c97-9562-49f0-a5d7-b8756dadd6c7    Michael     Osborn   \n",
      "..                                    ...        ...        ...   \n",
      "995  5ee88627-3ee0-4165-b838-19b8932e02cc    Kathryn       Ryan   \n",
      "996  ec6874df-1c63-439b-a675-b03347eebcf2       Gina     Butler   \n",
      "997  e2d4c43c-de0a-4e83-bba8-6e1e34a148ba      James    Jenkins   \n",
      "998  eb287ab1-e4f0-4e67-ab93-c06bf3762c9c      Karen  Henderson   \n",
      "999  0a8a88d9-2ec8-47c7-b284-6e074cbe5d5d     Nicole   Mitchell   \n",
      "\n",
      "                                               address         dob  \\\n",
      "0        600 Jeffery Parkways\\nNew Jamesside, MT 29394  1974-08-26   \n",
      "1             1559 Roman Stream\\nHerrerafurt, CO 72858  1965-08-07   \n",
      "2       16475 Mitchell Fords\\nJacquelineland, PA 83728  1958-07-10   \n",
      "3     30564 Jason Port Suite 376\\nThomasberg, IA 98148  1981-02-26   \n",
      "4    01226 Paul Ranch Suite 848\\nLake Jenniferside,...  1993-03-04   \n",
      "..                                                 ...         ...   \n",
      "995    7119 Patrick Avenue\\nSouth Tammyhaven, FL 60978  1976-10-10   \n",
      "996  2643 Smith Ports Suite 372\\nWest Rodney, NV 56286  1986-10-26   \n",
      "997  1642 Jennifer Loaf Suite 441\\nSouth Guy, NJ 86810  2000-06-28   \n",
      "998  429 Lori Meadow Apt. 755\\nNew Andreatown, CO 6...  1984-07-16   \n",
      "999  4172 Joseph Meadow Suite 386\\nShanetown, GA 47547  1999-04-18   \n",
      "\n",
      "             ssn  \n",
      "0    285-01-2616  \n",
      "1    644-80-5926  \n",
      "2    747-32-2678  \n",
      "3    270-96-9578  \n",
      "4    349-15-4809  \n",
      "..           ...  \n",
      "995  039-42-6554  \n",
      "996  878-29-1824  \n",
      "997  536-47-7809  \n",
      "998  579-25-2826  \n",
      "999  792-69-6058  \n",
      "\n",
      "[1000 rows x 6 columns]\n"
     ]
    }
   ],
   "source": [
    "Faker.seed(42)\n",
    "def generate_persons(num = 1):\n",
    "    fake = Faker()\n",
    "    rows = [{\n",
    "        'person_id': fake.uuid4(),\n",
    "        'first_name': fake.first_name(),\n",
    "        'last_name': fake.last_name(),\n",
    "        'address': fake.address(),\n",
    "        'dob': fake.date_of_birth(minimum_age = 18, maximum_age = 75),\n",
    "        'ssn': fake.ssn()\n",
    "    }\n",
    "    for x in range(num)\n",
    "    ]\n",
    "    return pd.DataFrame(rows)\n",
    "\n",
    "persons = generate_persons(1000)\n",
    "\n",
    "print(persons)"
   ]
  },
  {
   "cell_type": "markdown",
   "metadata": {},
   "source": [
    "## UUID experimentation"
   ]
  },
  {
   "cell_type": "code",
   "execution_count": 37,
   "metadata": {},
   "outputs": [
    {
     "name": "stdout",
     "output_type": "stream",
     "text": [
      "True\n",
      "ratings\n",
      "3    51\n",
      "2    21\n",
      "4    18\n",
      "1     5\n",
      "5     5\n",
      "Name: count, dtype: int64\n"
     ]
    }
   ],
   "source": [
    "num_users = 100\n",
    "df = pd.DataFrame()\n",
    "df['id'] = [str(uuid.uuid4()) for k in range(num_users)]\n",
    "print(df['id'].nunique()==num_users)\n",
    "genders = ['male', 'female', 'na']\n",
    "df['gender'] = random.choices(genders,weights=(45,45,10),k=num_users)\n",
    "df.gender.value_counts()\n",
    "choice = [True, False]\n",
    "\n",
    "df['subscriber'] = random.choices(choice, k=num_users)\n",
    "\n",
    "rating = [1,2,3,4,5]\n",
    "weight = [1,3,7,3,1]\n",
    "\n",
    "df['ratings'] = random.choices(rating, weights=weight, k=num_users)\n",
    "print(df.ratings.value_counts())\n",
    "df\n",
    "df.to_csv('uuid_experiment.csv')"
   ]
  },
  {
   "cell_type": "code",
   "execution_count": null,
   "metadata": {},
   "outputs": [],
   "source": []
  }
 ],
 "metadata": {
  "kernelspec": {
   "display_name": "Python 3",
   "language": "python",
   "name": "python3"
  },
  "language_info": {
   "codemirror_mode": {
    "name": "ipython",
    "version": 3
   },
   "file_extension": ".py",
   "mimetype": "text/x-python",
   "name": "python",
   "nbconvert_exporter": "python",
   "pygments_lexer": "ipython3",
   "version": "3.12.4"
  }
 },
 "nbformat": 4,
 "nbformat_minor": 2
}
