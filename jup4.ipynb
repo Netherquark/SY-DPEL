{
 "cells": [
  {
   "cell_type": "code",
   "execution_count": 10,
   "metadata": {},
   "outputs": [
    {
     "name": "stdout",
     "output_type": "stream",
     "text": [
      "attempt list\n",
      "0    10\n",
      "1    20\n",
      "2    30\n",
      "dtype: int64\n",
      "attempt array\n",
      "a    10\n",
      "b    20\n",
      "c    30\n",
      "dtype: int64\n",
      "attempt dictionary\n",
      "a    10\n",
      "b    20\n",
      "c    30\n",
      "dtype: int64\n"
     ]
    }
   ],
   "source": [
    "import pip\n",
    "\n",
    "def import_or_install(package):\n",
    "    try:\n",
    "        __import__(package)\n",
    "    except ImportError:\n",
    "        pip.main(['install', package])\n",
    "\n",
    "import_or_install(\"numpy\")\n",
    "import_or_install(\"pandas\")\n",
    "\n",
    "import numpy as np\n",
    "import pandas as pd\n",
    "labels = [\"a\", \"b\", \"c\"]\n",
    "my_list = [10,20,30]\n",
    "arr = np.array([10,20,30])\n",
    "d = {\"a\": 10, \"b\": 20, \"c\": 30}\n",
    "\n",
    "print(\"attempt list\")\n",
    "print(pd.Series(data=my_list)) #list to series\n",
    "\n",
    "print(\"attempt array\")\n",
    "print(pd.Series(arr,labels)) #array to series\n",
    "\n",
    "print(\"attempt dictionary\")\n",
    "print(pd.Series(d)) #dict to series"
   ]
  }
 ],
 "metadata": {
  "kernelspec": {
   "display_name": "Python 3",
   "language": "python",
   "name": "python3"
  },
  "language_info": {
   "codemirror_mode": {
    "name": "ipython",
    "version": 3
   },
   "file_extension": ".py",
   "mimetype": "text/x-python",
   "name": "python",
   "nbconvert_exporter": "python",
   "pygments_lexer": "ipython3",
   "version": "3.12.4"
  }
 },
 "nbformat": 4,
 "nbformat_minor": 2
}
