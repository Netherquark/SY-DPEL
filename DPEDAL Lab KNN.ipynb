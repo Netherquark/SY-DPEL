{
 "cells": [
  {
   "cell_type": "markdown",
   "metadata": {},
   "source": [
    "## initialise"
   ]
  },
  {
   "cell_type": "code",
   "execution_count": 2,
   "metadata": {},
   "outputs": [],
   "source": [
    "import pip\n",
    "\n",
    "def import_or_install(package):\n",
    "    try:\n",
    "        __import__(package)\n",
    "    except ImportError:\n",
    "        pip.main(['install', package])\n",
    "\n",
    "import_or_install(\"numpy\")\n",
    "import_or_install(\"pandas\")\n",
    "import_or_install(\"sklearn\")\n",
    "\n",
    "import numpy as np\n",
    "import pandas as pd\n",
    "from sklearn.impute import KNNImputer\n",
    "\n",
    "imputer = KNNImputer(n_neighbors=2)"
   ]
  },
  {
   "cell_type": "code",
   "execution_count": 3,
   "metadata": {},
   "outputs": [],
   "source": [
    "dict = {\n",
    "    'Maths':[82,33,np.nan, 91],\n",
    "    'Chemistry':[33,45, 34, np.nan],\n",
    "    'Physics':[99, 33, 43, 12],\n",
    "    'Biology':[44,23,np.nan, np.nan]\n",
    "}"
   ]
  },
  {
   "cell_type": "code",
   "execution_count": 4,
   "metadata": {},
   "outputs": [
    {
     "data": {
      "text/html": [
       "<div>\n",
       "<style scoped>\n",
       "    .dataframe tbody tr th:only-of-type {\n",
       "        vertical-align: middle;\n",
       "    }\n",
       "\n",
       "    .dataframe tbody tr th {\n",
       "        vertical-align: top;\n",
       "    }\n",
       "\n",
       "    .dataframe thead th {\n",
       "        text-align: right;\n",
       "    }\n",
       "</style>\n",
       "<table border=\"1\" class=\"dataframe\">\n",
       "  <thead>\n",
       "    <tr style=\"text-align: right;\">\n",
       "      <th></th>\n",
       "      <th>Maths</th>\n",
       "      <th>Chemistry</th>\n",
       "      <th>Physics</th>\n",
       "      <th>Biology</th>\n",
       "    </tr>\n",
       "  </thead>\n",
       "  <tbody>\n",
       "    <tr>\n",
       "      <th>0</th>\n",
       "      <td>82.0</td>\n",
       "      <td>33.0</td>\n",
       "      <td>99</td>\n",
       "      <td>44.0</td>\n",
       "    </tr>\n",
       "    <tr>\n",
       "      <th>1</th>\n",
       "      <td>33.0</td>\n",
       "      <td>45.0</td>\n",
       "      <td>33</td>\n",
       "      <td>23.0</td>\n",
       "    </tr>\n",
       "    <tr>\n",
       "      <th>2</th>\n",
       "      <td>NaN</td>\n",
       "      <td>34.0</td>\n",
       "      <td>43</td>\n",
       "      <td>NaN</td>\n",
       "    </tr>\n",
       "    <tr>\n",
       "      <th>3</th>\n",
       "      <td>91.0</td>\n",
       "      <td>NaN</td>\n",
       "      <td>12</td>\n",
       "      <td>NaN</td>\n",
       "    </tr>\n",
       "  </tbody>\n",
       "</table>\n",
       "</div>"
      ],
      "text/plain": [
       "   Maths  Chemistry  Physics  Biology\n",
       "0   82.0       33.0       99     44.0\n",
       "1   33.0       45.0       33     23.0\n",
       "2    NaN       34.0       43      NaN\n",
       "3   91.0        NaN       12      NaN"
      ]
     },
     "execution_count": 4,
     "metadata": {},
     "output_type": "execute_result"
    }
   ],
   "source": [
    "Before_imputation = pd.DataFrame(dict)\n",
    "Before_imputation"
   ]
  },
  {
   "cell_type": "code",
   "execution_count": 5,
   "metadata": {},
   "outputs": [
    {
     "data": {
      "text/plain": [
       "array([[82. , 33. , 99. , 44. ],\n",
       "       [33. , 45. , 33. , 23. ],\n",
       "       [62. , 34. , 43. , 33.5],\n",
       "       [91. , 39.5, 12. , 33.5]])"
      ]
     },
     "execution_count": 5,
     "metadata": {},
     "output_type": "execute_result"
    }
   ],
   "source": [
    "After_imputation = imputer.fit_transform(Before_imputation)\n",
    "After_imputation"
   ]
  },
  {
   "cell_type": "code",
   "execution_count": 6,
   "metadata": {},
   "outputs": [
    {
     "data": {
      "text/plain": [
       "Index(['Maths', 'Chemistry', 'Physics', 'Biology'], dtype='object')"
      ]
     },
     "execution_count": 6,
     "metadata": {},
     "output_type": "execute_result"
    }
   ],
   "source": [
    "Before_imputation.columns"
   ]
  },
  {
   "cell_type": "code",
   "execution_count": 7,
   "metadata": {},
   "outputs": [
    {
     "data": {
      "text/html": [
       "<div>\n",
       "<style scoped>\n",
       "    .dataframe tbody tr th:only-of-type {\n",
       "        vertical-align: middle;\n",
       "    }\n",
       "\n",
       "    .dataframe tbody tr th {\n",
       "        vertical-align: top;\n",
       "    }\n",
       "\n",
       "    .dataframe thead th {\n",
       "        text-align: right;\n",
       "    }\n",
       "</style>\n",
       "<table border=\"1\" class=\"dataframe\">\n",
       "  <thead>\n",
       "    <tr style=\"text-align: right;\">\n",
       "      <th></th>\n",
       "      <th>Maths</th>\n",
       "      <th>Chemistry</th>\n",
       "      <th>Physics</th>\n",
       "      <th>Biology</th>\n",
       "    </tr>\n",
       "  </thead>\n",
       "  <tbody>\n",
       "    <tr>\n",
       "      <th>0</th>\n",
       "      <td>82.0</td>\n",
       "      <td>33.0</td>\n",
       "      <td>99.0</td>\n",
       "      <td>44.0</td>\n",
       "    </tr>\n",
       "    <tr>\n",
       "      <th>1</th>\n",
       "      <td>33.0</td>\n",
       "      <td>45.0</td>\n",
       "      <td>33.0</td>\n",
       "      <td>23.0</td>\n",
       "    </tr>\n",
       "    <tr>\n",
       "      <th>2</th>\n",
       "      <td>62.0</td>\n",
       "      <td>34.0</td>\n",
       "      <td>43.0</td>\n",
       "      <td>33.5</td>\n",
       "    </tr>\n",
       "    <tr>\n",
       "      <th>3</th>\n",
       "      <td>91.0</td>\n",
       "      <td>39.5</td>\n",
       "      <td>12.0</td>\n",
       "      <td>33.5</td>\n",
       "    </tr>\n",
       "  </tbody>\n",
       "</table>\n",
       "</div>"
      ],
      "text/plain": [
       "   Maths  Chemistry  Physics  Biology\n",
       "0   82.0       33.0     99.0     44.0\n",
       "1   33.0       45.0     33.0     23.0\n",
       "2   62.0       34.0     43.0     33.5\n",
       "3   91.0       39.5     12.0     33.5"
      ]
     },
     "execution_count": 7,
     "metadata": {},
     "output_type": "execute_result"
    }
   ],
   "source": [
    "After_imputation=pd.DataFrame(After_imputation,columns=Before_imputation.columns)\n",
    "After_imputation"
   ]
  },
  {
   "cell_type": "code",
   "execution_count": 8,
   "metadata": {},
   "outputs": [
    {
     "data": {
      "text/html": [
       "<div>\n",
       "<style scoped>\n",
       "    .dataframe tbody tr th:only-of-type {\n",
       "        vertical-align: middle;\n",
       "    }\n",
       "\n",
       "    .dataframe tbody tr th {\n",
       "        vertical-align: top;\n",
       "    }\n",
       "\n",
       "    .dataframe thead th {\n",
       "        text-align: right;\n",
       "    }\n",
       "</style>\n",
       "<table border=\"1\" class=\"dataframe\">\n",
       "  <thead>\n",
       "    <tr style=\"text-align: right;\">\n",
       "      <th></th>\n",
       "      <th>Class A</th>\n",
       "      <th>Class B</th>\n",
       "      <th>Class C</th>\n",
       "      <th>Class D</th>\n",
       "    </tr>\n",
       "  </thead>\n",
       "  <tbody>\n",
       "    <tr>\n",
       "      <th>0</th>\n",
       "      <td>1.0</td>\n",
       "      <td>6.0</td>\n",
       "      <td>5</td>\n",
       "      <td>9.0</td>\n",
       "    </tr>\n",
       "    <tr>\n",
       "      <th>1</th>\n",
       "      <td>3.0</td>\n",
       "      <td>NaN</td>\n",
       "      <td>4</td>\n",
       "      <td>NaN</td>\n",
       "    </tr>\n",
       "    <tr>\n",
       "      <th>2</th>\n",
       "      <td>NaN</td>\n",
       "      <td>8.0</td>\n",
       "      <td>2</td>\n",
       "      <td>6.0</td>\n",
       "    </tr>\n",
       "    <tr>\n",
       "      <th>3</th>\n",
       "      <td>4.0</td>\n",
       "      <td>NaN</td>\n",
       "      <td>3</td>\n",
       "      <td>8.0</td>\n",
       "    </tr>\n",
       "  </tbody>\n",
       "</table>\n",
       "</div>"
      ],
      "text/plain": [
       "   Class A  Class B  Class C  Class D\n",
       "0      1.0      6.0        5      9.0\n",
       "1      3.0      NaN        4      NaN\n",
       "2      NaN      8.0        2      6.0\n",
       "3      4.0      NaN        3      8.0"
      ]
     },
     "execution_count": 8,
     "metadata": {},
     "output_type": "execute_result"
    }
   ],
   "source": [
    "dictX = {\n",
    "    'Class A': [1,3,np.nan,4],\n",
    "    'Class B': [6,np.nan,8,np.nan],\n",
    "    'Class C': [5,4,2,3],\n",
    "    'Class D': [9,np.nan,6,8]\n",
    "}\n",
    "\n",
    "X = pd.DataFrame(dictX)\n",
    "\n",
    "X"
   ]
  },
  {
   "cell_type": "code",
   "execution_count": 10,
   "metadata": {},
   "outputs": [
    {
     "name": "stdout",
     "output_type": "stream",
     "text": [
      "number_of_nan_column:\n",
      "Class A    1\n",
      "Class B    2\n",
      "Class C    0\n",
      "Class D    1\n",
      "dtype: int64\n",
      "\n",
      "number_of_nan:\n",
      "4\n",
      "\n",
      "percent_of_missing:\n",
      "25.0 %\n",
      "\n",
      "df with rows filtered:\n",
      "   Class C\n",
      "0        5\n",
      "1        4\n",
      "2        2\n",
      "3        3\n",
      "\n",
      "df with columns filtered:\n",
      "   Class A  Class B  Class C  Class D\n",
      "0      1.0      6.0        5      9.0\n",
      "\n",
      "DataFrame with missing values filled with mean:\n",
      "    Class A  Class B  Class C   Class D\n",
      "0  1.000000      6.0        5  9.000000\n",
      "1  3.000000      7.0        4  7.666667\n",
      "2  2.666667      8.0        2  6.000000\n",
      "3  4.000000      7.0        3  8.000000\n",
      "\n",
      "DataFrame with missing values imputed using KNN:\n",
      "   Class A  Class B  Class C  Class D\n",
      "0      1.0      6.0      5.0      9.0\n",
      "1      3.0      7.0      4.0      8.5\n",
      "2      3.5      8.0      2.0      6.0\n",
      "3      4.0      7.0      3.0      8.0\n"
     ]
    }
   ],
   "source": [
    "#Task 1: find number of NaN in each column\n",
    "number_of_nan_column = X.isna().sum()\n",
    "print(\"number_of_nan_column:\")\n",
    "print(number_of_nan_column)\n",
    "\n",
    "#Task 2: Find total number of missing values in df\n",
    "number_of_nan = number_of_nan_column.sum()\n",
    "print(\"\\nnumber_of_nan:\")\n",
    "print(number_of_nan)\n",
    "\n",
    "#Task 3: Find percent of missing values in df\n",
    "percent_of_missing = 100*(number_of_nan/X.size)\n",
    "print(\"\\npercent_of_missing:\")\n",
    "print(percent_of_missing, \"%\")\n",
    "\n",
    "#Task 4: Drop the rows having missing values\n",
    "X_dropped_rows = X.dropna(axis=1)\n",
    "print(\"\\ndf with rows filtered:\")\n",
    "print(X_dropped_rows)\n",
    "\n",
    "#Task 5: Drop the columns having missing values\n",
    "X_dropped_columns = X.dropna(axis=0)\n",
    "print(\"\\ndf with columns filtered:\")\n",
    "print(X_dropped_columns)\n",
    "\n",
    "#Task 6: Fill the missing values with mean values\n",
    "X_filled_mean = X.fillna(X.mean())\n",
    "print(\"\\nDataFrame with missing values filled with mean:\")\n",
    "print(X_filled_mean)\n",
    "\n",
    "#Task 7: Use KNN imputer to impute the missing values\n",
    "#Task 8: Save the imputed data in df Y\n",
    "Y = pd.DataFrame(imputer.fit_transform(X), columns=X.columns)\n",
    "print(\"\\nDataFrame with missing values imputed using KNN:\")\n",
    "print(X_imputed_knn)"
   ]
  },
  {
   "cell_type": "code",
   "execution_count": null,
   "metadata": {},
   "outputs": [],
   "source": []
  }
 ],
 "metadata": {
  "kernelspec": {
   "display_name": "Python 3",
   "language": "python",
   "name": "python3"
  },
  "language_info": {
   "codemirror_mode": {
    "name": "ipython",
    "version": 3
   },
   "file_extension": ".py",
   "mimetype": "text/x-python",
   "name": "python",
   "nbconvert_exporter": "python",
   "pygments_lexer": "ipython3",
   "version": "3.12.4"
  }
 },
 "nbformat": 4,
 "nbformat_minor": 2
}
