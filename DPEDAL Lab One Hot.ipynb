{
 "cells": [
  {
   "cell_type": "markdown",
   "metadata": {},
   "source": [
    "## initialise"
   ]
  },
  {
   "cell_type": "code",
   "execution_count": 2,
   "metadata": {},
   "outputs": [],
   "source": [
    "import pip\n",
    "\n",
    "def import_or_install(package):\n",
    "    try:\n",
    "        __import__(package)\n",
    "    except ImportError:\n",
    "        pip.main(['install', package])\n",
    "\n",
    "import_or_install(\"numpy\")\n",
    "import_or_install(\"pandas\")\n",
    "import_or_install(\"sklearn\")\n",
    "\n",
    "import numpy as np\n",
    "import pandas as pd\n",
    "from sklearn.preprocessing import OneHotEncoder\n",
    "\n",
    "encoder = OneHotEncoder(handle_unknown='ignore')"
   ]
  },
  {
   "cell_type": "code",
   "execution_count": 8,
   "metadata": {},
   "outputs": [
    {
     "name": "stdout",
     "output_type": "stream",
     "text": [
      "  team  points\n",
      "0    A      25\n",
      "1    A      17\n",
      "2    B      15\n",
      "3    B      14\n",
      "4    B      19\n",
      "5    B      23\n",
      "6    C      25\n",
      "7    C      29\n"
     ]
    }
   ],
   "source": [
    "df = pd.DataFrame({'team':['A','A','B','B','B','B','C','C'],'points':[25,17,15,14,19,23,25,29]})\n",
    "\n",
    "print(df)"
   ]
  },
  {
   "cell_type": "code",
   "execution_count": 22,
   "metadata": {},
   "outputs": [
    {
     "name": "stdout",
     "output_type": "stream",
     "text": [
      "   points    0    1    2\n",
      "0      25  1.0  0.0  0.0\n",
      "1      17  1.0  0.0  0.0\n",
      "2      15  0.0  1.0  0.0\n",
      "3      14  0.0  1.0  0.0\n",
      "4      19  0.0  1.0  0.0\n",
      "5      23  0.0  1.0  0.0\n",
      "6      25  0.0  0.0  1.0\n",
      "7      29  0.0  0.0  1.0\n"
     ]
    }
   ],
   "source": [
    "encoder_df = pd.DataFrame(encoder.fit_transform(df[['team']]).toarray())\n",
    "final_df = df.join(encoder_df)\n",
    "\n",
    "final_df = final_df.drop('team',axis=1)\n",
    "print(final_df)"
   ]
  },
  {
   "cell_type": "markdown",
   "metadata": {},
   "source": [
    "Create a dataframe with Gender Age Degree\n",
    "\n",
    "Create 10 data values in this dataset\n",
    "\n",
    "Apply one hot encoding to gender and degree"
   ]
  },
  {
   "cell_type": "code",
   "execution_count": 30,
   "metadata": {},
   "outputs": [
    {
     "name": "stdout",
     "output_type": "stream",
     "text": [
      "  Gender  Age  Degree\n",
      "0      M   25     B.E\n",
      "1      F   17     B.E\n",
      "2      M   15     B.A\n",
      "3      F   14     B.E\n",
      "4      M   19     B.E\n",
      "5      M   23  B.Arch\n",
      "6      F   25    B.Ed\n",
      "7      F   29    B.Ed\n",
      "8      M   74  B.Arch\n",
      "9      M   66     B.A\n",
      "   Age    0    1\n",
      "0   25  0.0  1.0\n",
      "1   17  1.0  0.0\n",
      "2   15  0.0  1.0\n",
      "3   14  1.0  0.0\n",
      "4   19  0.0  1.0\n",
      "5   23  0.0  1.0\n",
      "6   25  1.0  0.0\n",
      "7   29  1.0  0.0\n",
      "8   74  0.0  1.0\n",
      "9   66  0.0  1.0\n"
     ]
    }
   ],
   "source": [
    "People = pd.DataFrame({'Gender':['M','F','M','F','M','M','F','F','M','M'],'Age':[25,17,15,14,19,23,25,29,74,66],'Degree':['B.E','B.E','B.A','B.E','B.E','B.Arch','B.Ed','B.Ed','B.Arch','B.A']})\n",
    "\n",
    "print(People)\n",
    "\n",
    "encoder_Gender = pd.DataFrame(encoder.fit_transform(People[['Gender']]).toarray())\n",
    "final_People = df.join(encoder_Gender)\n",
    "\n",
    "encoder_Degree = pd.DataFrame(encoder.fit_transform(final_People[['Gender']]).toarray())\n",
    "final_People = df.join(encoder_Degree)\n",
    "\n",
    "final_People = final_People.drop('Gender',axis=1)\n",
    "final_People = final_People.drop('Degree',axis=1)\n",
    "print(final_People)"
   ]
  }
 ],
 "metadata": {
  "kernelspec": {
   "display_name": "Python 3",
   "language": "python",
   "name": "python3"
  },
  "language_info": {
   "codemirror_mode": {
    "name": "ipython",
    "version": 3
   },
   "file_extension": ".py",
   "mimetype": "text/x-python",
   "name": "python",
   "nbconvert_exporter": "python",
   "pygments_lexer": "ipython3",
   "version": "3.12.4"
  }
 },
 "nbformat": 4,
 "nbformat_minor": 2
}
