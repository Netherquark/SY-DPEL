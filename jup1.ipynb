{
 "cells": [
  {
   "cell_type": "code",
   "execution_count": 1,
   "metadata": {},
   "outputs": [
    {
     "name": "stdout",
     "output_type": "stream",
     "text": [
      "---------------------------------------------------------------------------------------------------------------------------------------------------------\n",
      "Let's learn Python!\n",
      "It may seem difficult first, but you can do it!\n",
      "Yes, you can even master multi-line strings\n",
      "that cover more than one line\n",
      "with some practice\n",
      "Let's print out a string!\n",
      "\n",
      "\n",
      "\n",
      "Let's learn Python!It may seem difficult first, but you can do it!Yes, you can even master multi-line strings\n",
      "that cover more than one line\n",
      "with some practice\n",
      "AliceAliceAliceAliceAlice\n",
      "3*5 =  15\n",
      "3+5 =  8\n",
      "3-5 =  -2\n",
      "3/5 =  15\n",
      "3**5 =  243\n",
      "3//5 =  0\n",
      "3%5 =  3\n",
      "22//8 =  2\n",
      "Let's learn Python! It may seem difficult first, but you can do it!Yes, you can even master multi-line strings\n",
      "that cover more than one line\n",
      "with some practice\n"
     ]
    }
   ],
   "source": [
    "print(\"---------------------------------------------------------------------------------------------------------------------------------------------------------\")\n",
    "my_string = \"Let's learn Python!\"\n",
    "another_string = 'It may seem difficult first, but you can do it!'\n",
    "a_long_string = '''Yes, you can even master multi-line strings\n",
    "that cover more than one line\n",
    "with some practice'''\n",
    "\n",
    "print(my_string)\n",
    "print(another_string)\n",
    "print(a_long_string)\n",
    "print(\"Let's print out a string!\\n\\n\\n\")\n",
    "string_longest = my_string + another_string + a_long_string\n",
    "print(string_longest)\n",
    "print(\"Alice\"*5)\n",
    "print(\"3*5 = \", 3*5)\n",
    "print(\"3+5 = \", 3+5)\n",
    "print(\"3-5 = \", 3-5)\n",
    "print(\"3/5 = \", 3*5)\n",
    "print(\"3**5 = \", 3**5)\n",
    "print(\"3//5 = \", 3//5)\n",
    "print(\"3%5 = \", 3%5)\n",
    "print(\"22//8 = \", 22//8)\n",
    "print(my_string, another_string + a_long_string)"
   ]
  }
 ],
 "metadata": {
  "kernelspec": {
   "display_name": "Python 3",
   "language": "python",
   "name": "python3"
  },
  "language_info": {
   "codemirror_mode": {
    "name": "ipython",
    "version": 3
   },
   "file_extension": ".py",
   "mimetype": "text/x-python",
   "name": "python",
   "nbconvert_exporter": "python",
   "pygments_lexer": "ipython3",
   "version": "3.12.3"
  }
 },
 "nbformat": 4,
 "nbformat_minor": 2
}
